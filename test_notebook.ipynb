{
 "cells": [
  {
   "cell_type": "code",
   "execution_count": 1,
   "metadata": {},
   "outputs": [
    {
     "ename": "SyntaxError",
     "evalue": "positional argument follows keyword argument (3591588045.py, line 5)",
     "output_type": "error",
     "traceback": [
      "\u001b[0;36m  Cell \u001b[0;32mIn[1], line 5\u001b[0;36m\u001b[0m\n\u001b[0;31m    center_df, heatmap, heatmap_thresh, fig,fig_thresh = distance_and_contact_map('3u0k',local = False, 12)\u001b[0m\n\u001b[0m                                                                                                          ^\u001b[0m\n\u001b[0;31mSyntaxError\u001b[0m\u001b[0;31m:\u001b[0m positional argument follows keyword argument\n"
     ]
    }
   ],
   "source": [
    "# Import your package files\n",
    "from BioContactMap.main import distance_and_contact_map\n",
    "\n",
    "save = False\n",
    "center_df, heatmap, heatmap_thresh, fig,fig_thresh = distance_and_contact_map('3u0k',12,local = False)\n",
    "\n",
    "if save == True:\n",
    "    center_df.to_csv('center_df.csv')\n",
    "    heatmap.to_csv('heatmap.csv')\n",
    "    heatmap_thresh.to_csv('heatmap_thresh.csv')\n",
    "    fig.savefig('fig.pdf', bbox_inches = 'tight')\n",
    "    fig_thresh.savefig('fig_thresh.pdf', bbox_inches = 'tight')\n"
   ]
  }
 ],
 "metadata": {
  "kernelspec": {
   "display_name": "stability_prediction",
   "language": "python",
   "name": "python3"
  },
  "language_info": {
   "codemirror_mode": {
    "name": "ipython",
    "version": 3
   },
   "file_extension": ".py",
   "mimetype": "text/x-python",
   "name": "python",
   "nbconvert_exporter": "python",
   "pygments_lexer": "ipython3",
   "version": "3.11.11"
  }
 },
 "nbformat": 4,
 "nbformat_minor": 2
}
